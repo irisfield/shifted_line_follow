{
  "nbformat": 4,
  "nbformat_minor": 0,
  "metadata": {
    "colab": {
      "name": "region_of_interest.ipynb",
      "provenance": [],
      "collapsed_sections": []
    },
    "kernelspec": {
      "name": "python3",
      "display_name": "Python 3"
    }
  },
  "cells": [
    {
      "cell_type": "code",
      "metadata": {
        "id": "hD_AGW8LuPmW"
      },
      "source": [
        "import cv2\n",
        "import numpy as np\n",
        "import matplotlib.pyplot as plt\n",
        "%matplotlib inline"
      ],
      "execution_count": null,
      "outputs": []
    },
    {
      "cell_type": "code",
      "source": [
        "# the dimension of the image we are passing to get_region_of_interest() in line_follow.py\n",
        "height = 538\n",
        "width = 720"
      ],
      "metadata": {
        "id": "sbDm5TMqEZYa"
      },
      "execution_count": null,
      "outputs": []
    },
    {
      "cell_type": "code",
      "source": [
        "# find the region of interest\n",
        "roi = np.array([[\n",
        "                 [360, 540], # BOTTOM LEFT\n",
        "                 [360, 269], # TOP LEFT\n",
        "                 [540, 269], # TOP RIGHT\n",
        "                 [720, 538]  # BOTTOM RIGHT\n",
        "               ]], dtype = np.int32)\n",
        "\n",
        "\n",
        "image = np.zeros([height, width],dtype=np.uint8)\n",
        "cv2.fillPoly(image, roi, 255)\n",
        "\n",
        "plt.imshow(image)\n",
        "plt.show()"
      ],
      "metadata": {
        "colab": {
          "base_uri": "https://localhost:8080/",
          "height": 269
        },
        "id": "G1sXH39QEmCL",
        "outputId": "22c1794c-f59e-48ea-b89f-d11d43594a5b"
      },
      "execution_count": null,
      "outputs": [
        {
          "output_type": "display_data",
          "data": {
            "text/plain": [
              "<Figure size 432x288 with 1 Axes>"
            ],
            "image/png": "[encoded data removed]"
          },
          "metadata": {
            "needs_background": "light"
          }
        }
      ]
    }
  ]
}